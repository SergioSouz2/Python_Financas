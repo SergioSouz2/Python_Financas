{
 "cells": [
  {
   "cell_type": "markdown",
   "id": "aff6f523",
   "metadata": {},
   "source": [
    "# Projeto criando uma calculadora de juros compostos\n",
    "* Formula de juros compostos : montante = inicial * ( 1 + taxa) ** tempo"
   ]
  },
  {
   "cell_type": "code",
   "execution_count": 12,
   "id": "ad74503c",
   "metadata": {},
   "outputs": [
    {
     "name": "stdout",
     "output_type": "stream",
     "text": [
      "Qual seu nome? sergio\n",
      " Olá sergio, seja bem vindo aos juros compostos! Aqui nós cuidamos da sua aposentadoria :) \n",
      " Digite a quantidade de dinheiro inicial do seu investimento: 5000\n",
      "Digite quantos meses voçê deixará o dinheiro investido: 360\n",
      "Digite, em decimal, qual a taxa anual de retorno do seu investimento: 0.01\n",
      "Quanto dinheiro voce consegue aportar por mes: 500\n",
      "Digite o salario mensal que voce quer receber ao se aposentar20000\n",
      "------------------------------------------------------------------\n",
      "########################### MONTANTE ###########################\n",
      "Parabéns sergio! Ao final do periódo voçê terá R$1926730.98!\n",
      "################################################################\n",
      "------------------------------------------------------------------\n",
      "------------------------------------------------------------------\n",
      "########################### APOSENTADORIA ###########################\n",
      "Infelizmente sergio! se aposentar nao sera possivel. com esse montante seu salario mensal e de  R$19267.31!\n",
      "################################################################\n",
      "------------------------------------------------------------------\n"
     ]
    }
   ],
   "source": [
    "nome = input(\"Qual seu nome? \")\n",
    "print(f\" Olá {nome}, seja bem vindo aos juros compostos! Aqui nós cuidamos da sua aposentadoria :) \")\n",
    "\n",
    "dinheiro_inicial = int(input( \" Digite a quantidade de dinheiro inicial do seu investimento: \"))\n",
    "tempo_desejado = int(input(\"Digite quantos meses voçê deixará o dinheiro investido: \" ))\n",
    "taxa = float(input(\"Digite, em decimal, qual a taxa anual de retorno do seu investimento: \"))\n",
    "aporte = int(input('Quanto dinheiro voce consegue aportar por mes: '))\n",
    "salario_desejado = int(input(\"Digite o salario mensal que voce quer receber ao se aposentar\"))\n",
    "\n",
    "tempo_decorrido = 0\n",
    "\n",
    "while tempo_decorrido < tempo_desejado:\n",
    "    if tempo_decorrido == 0:\n",
    "        \n",
    "        montante = dinheiro_inicial * ( 1 + taxa) ** 1\n",
    "        montante = round(montante,2)\n",
    "        tempo_decorrido = tempo_decorrido + 1\n",
    "    else:\n",
    "        montante = (montante + aporte) * ( 1 + taxa) ** 1\n",
    "        montante = round(montante,2)\n",
    "        tempo_decorrido = tempo_decorrido + 1\n",
    "\n",
    "print('------------------------------------------------------------------')\n",
    "print('########################### MONTANTE ###########################')\n",
    "print(f'Parabéns { nome}! Ao final do periódo voçê terá R${montante}!')\n",
    "print('################################################################')\n",
    "print('------------------------------------------------------------------')\n",
    "\n",
    "# Adicionando funcionalidade de liberdade financeira\n",
    "salario_mensal = (montante * taxa)\n",
    "salario_mensal = round(salario_mensal,2)\n",
    "\n",
    "if salario_mensal >= salario_desejado:\n",
    "    print('------------------------------------------------------------------')\n",
    "    print('########################### APOSENTADORIA ###########################')\n",
    "    print(f'Parabéns { nome}! voce pode se aposentar! Seu salario mensal com esse montante é de R${salario_mensal}!')\n",
    "    print('################################################################')\n",
    "    print('------------------------------------------------------------------')\n",
    "elif salario_mensal < salario_desejado:\n",
    "    print('------------------------------------------------------------------')\n",
    "    print('########################### APOSENTADORIA ###########################')\n",
    "    print(f'Infelizmente { nome}! se aposentar nao sera possivel. com esse montante seu salario mensal e de  R${salario_mensal}!')\n",
    "    print('################################################################')\n",
    "    print('------------------------------------------------------------------')\n",
    "\n",
    "\n"
   ]
  }
 ],
 "metadata": {
  "kernelspec": {
   "display_name": "Python 3 (ipykernel)",
   "language": "python",
   "name": "python3"
  },
  "language_info": {
   "codemirror_mode": {
    "name": "ipython",
    "version": 3
   },
   "file_extension": ".py",
   "mimetype": "text/x-python",
   "name": "python",
   "nbconvert_exporter": "python",
   "pygments_lexer": "ipython3",
   "version": "3.11.5"
  },
  "widgets": {
   "application/vnd.jupyter.widget-state+json": {
    "state": {},
    "version_major": 2,
    "version_minor": 0
   }
  }
 },
 "nbformat": 4,
 "nbformat_minor": 5
}
